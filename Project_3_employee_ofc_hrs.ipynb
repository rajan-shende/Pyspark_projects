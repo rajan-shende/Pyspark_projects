{
 "cells": [
  {
   "cell_type": "code",
   "execution_count": 0,
   "metadata": {
    "application/vnd.databricks.v1+cell": {
     "cellMetadata": {
      "byteLimit": 2048000,
      "rowLimit": 10000
     },
     "inputWidgets": {},
     "nuid": "67f14e87-1ec6-4ce6-939d-01c19facd8f6",
     "showTitle": true,
     "title": "Importing dependencies"
    }
   },
   "outputs": [],
   "source": [
    "import pyspark\n",
    "from pyspark.sql import SparkSession"
   ]
  },
  {
   "cell_type": "code",
   "execution_count": 0,
   "metadata": {
    "application/vnd.databricks.v1+cell": {
     "cellMetadata": {
      "byteLimit": 2048000,
      "rowLimit": 10000
     },
     "inputWidgets": {},
     "nuid": "72cc1258-8d06-4314-aa78-8d9490779396",
     "showTitle": true,
     "title": "Creating a spark context & session"
    }
   },
   "outputs": [],
   "source": [
    "# Created a spark session to start with & created a context object\n",
    "# As databricks provides functionality of inbuild  sparksession hence not creating the same will be using the active session\n",
    "# spark_session = spark.builder.getOrCreate()\n",
    "# spark_context = spark_session.sparkContext\n",
    "\n",
    "spark_session = spark.builder.getOrCreate()\n",
    "print(spark_session.sparkContext.appName)\n",
    "print(spark_session.sparkContext.version)\n",
    "\n",
    "# -------------------------------------------  OUTPUT -----------------------------------------------\n",
    "# Databricks Shell\n",
    "# 3.3.0"
   ]
  },
  {
   "cell_type": "code",
   "execution_count": 0,
   "metadata": {
    "application/vnd.databricks.v1+cell": {
     "cellMetadata": {
      "byteLimit": 2048000,
      "rowLimit": 10000
     },
     "inputWidgets": {},
     "nuid": "ba12675d-49be-49cf-9f82-ea671e63fbb0",
     "showTitle": true,
     "title": "Creating RDD"
    }
   },
   "outputs": [],
   "source": [
    "\n",
    "data = spark.read.option(\"header\",\"true\").option(\"inferschema\",\"true\").csv(\"s3://Sample_bucket/Folder/Percent_office_hours.csv\")\n",
    "#Creating RDD from Dataframe\n",
    "data_Rdd = data.rdd"
   ]
  },
  {
   "cell_type": "code",
   "execution_count": 0,
   "metadata": {
    "application/vnd.databricks.v1+cell": {
     "cellMetadata": {
      "byteLimit": 2048000,
      "rowLimit": 10000
     },
     "inputWidgets": {},
     "nuid": "1868747f-dbf7-4819-b97b-dc0ad01c60f6",
     "showTitle": true,
     "title": "RDD Manipulation"
    }
   },
   "outputs": [],
   "source": [
    "# getting the number of partitions\n",
    "print(\"The number of partitions are : \",data_Rdd.getNumPartitions())\n",
    "\n",
    "print(data_Rdd.top(1))\n",
    "print(\"Total no of records before transformations & cleaning : \",data_Rdd.count())\n",
    "\n",
    "#Creating a Map function for Data of office hours percentage >= 95\n",
    "transformed_data = data_Rdd.map(lambda x : (x[\"emp_code\"],x[\"percent_office_hours\"] >= 95, x[\"swipe_date\"]))\n",
    "cleaned_data = transformed_data.filter(lambda x : x[1] == True).collect()\n",
    "print(\"Total no of records after transformations & cleaning : \",len(cleaned_data))\n",
    "print(\"Sample from cleaned data :\",cleaned_data[0])\n",
    "\n",
    "# ----------------------------------------- OUTPUT ---------------------\n",
    "# The number of partitions are :  5\n",
    "# Sample before cleaning => [Row(emp_code=1123533, swipe_date=20240116, percent_office_hours=56)]\n",
    "# Total no of records before transformations & cleaning :  1048575\n",
    "# Total no of records after transformations & cleaning :  361596\n",
    "# Sample from cleaned data : (1122437, True, 20240115)"
   ]
  },
  {
   "cell_type": "code",
   "execution_count": 0,
   "metadata": {
    "application/vnd.databricks.v1+cell": {
     "cellMetadata": {
      "byteLimit": 2048000,
      "rowLimit": 10000
     },
     "inputWidgets": {},
     "nuid": "b9aab0e2-d8a8-4c61-9242-447d4b2ee1fc",
     "showTitle": false,
     "title": ""
    }
   },
   "outputs": [],
   "source": []
  }
 ],
 "metadata": {
  "application/vnd.databricks.v1+notebook": {
   "dashboards": [],
   "language": "python",
   "notebookMetadata": {
    "pythonIndentUnit": 4
   },
   "notebookName": "RDD_Project",
   "widgets": {}
  }
 },
 "nbformat": 4,
 "nbformat_minor": 0
}
